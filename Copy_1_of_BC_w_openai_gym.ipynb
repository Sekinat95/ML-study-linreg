{
  "nbformat": 4,
  "nbformat_minor": 0,
  "metadata": {
    "accelerator": "GPU",
    "colab": {
      "name": "Copy 1 of BC w openai gym.ipynb",
      "provenance": [],
      "collapsed_sections": [],
      "toc_visible": true,
      "include_colab_link": true
    },
    "kernelspec": {
      "display_name": "Python 3",
      "name": "python3"
    }
  },
  "cells": [
    {
      "cell_type": "markdown",
      "metadata": {
        "id": "view-in-github",
        "colab_type": "text"
      },
      "source": [
        "<a href=\"https://colab.research.google.com/github/Sekinat95/ML-study-linreg/blob/main/Copy_1_of_BC_w_openai_gym.ipynb\" target=\"_parent\"><img src=\"https://colab.research.google.com/assets/colab-badge.svg\" alt=\"Open In Colab\"/></a>"
      ]
    },
    {
      "cell_type": "code",
      "metadata": {
        "colab": {
          "base_uri": "https://localhost:8080/"
        },
        "id": "BIJmqtWNCcnz",
        "outputId": "774c59f3-10bc-4ece-eeb8-dceceb18087a"
      },
      "source": [
        "!pip install tensorflowjs"
      ],
      "execution_count": null,
      "outputs": [
        {
          "output_type": "stream",
          "text": [
            "Collecting tensorflowjs\n",
            "\u001b[?25l  Downloading https://files.pythonhosted.org/packages/f9/42/184dd8f0c2b4dd375e504cf9c7b305531760efeccd9a606401d27505669e/tensorflowjs-3.0.0-py3-none-any.whl (63kB)\n",
            "\r\u001b[K     |█████▏                          | 10kB 24.1MB/s eta 0:00:01\r\u001b[K     |██████████▍                     | 20kB 31.1MB/s eta 0:00:01\r\u001b[K     |███████████████▌                | 30kB 35.6MB/s eta 0:00:01\r\u001b[K     |████████████████████▊           | 40kB 37.7MB/s eta 0:00:01\r\u001b[K     |█████████████████████████▉      | 51kB 37.1MB/s eta 0:00:01\r\u001b[K     |███████████████████████████████ | 61kB 39.6MB/s eta 0:00:01\r\u001b[K     |████████████████████████████████| 71kB 10.4MB/s \n",
            "\u001b[?25hRequirement already satisfied: six<2,>=1.12.0 in /usr/local/lib/python3.6/dist-packages (from tensorflowjs) (1.15.0)\n",
            "Requirement already satisfied: tensorflow<3,>=2.1.0 in /usr/local/lib/python3.6/dist-packages (from tensorflowjs) (2.4.1)\n",
            "Collecting tensorflow-hub<0.10,>=0.7.0\n",
            "\u001b[?25l  Downloading https://files.pythonhosted.org/packages/ac/83/a7df82744a794107641dad1decaad017d82e25f0e1f761ac9204829eef96/tensorflow_hub-0.9.0-py2.py3-none-any.whl (103kB)\n",
            "\u001b[K     |████████████████████████████████| 112kB 30.4MB/s \n",
            "\u001b[?25hRequirement already satisfied: h5py<3,>=2.8.0 in /usr/local/lib/python3.6/dist-packages (from tensorflowjs) (2.10.0)\n",
            "Requirement already satisfied: astunparse~=1.6.3 in /usr/local/lib/python3.6/dist-packages (from tensorflow<3,>=2.1.0->tensorflowjs) (1.6.3)\n",
            "Requirement already satisfied: tensorboard~=2.4 in /usr/local/lib/python3.6/dist-packages (from tensorflow<3,>=2.1.0->tensorflowjs) (2.4.1)\n",
            "Requirement already satisfied: wrapt~=1.12.1 in /usr/local/lib/python3.6/dist-packages (from tensorflow<3,>=2.1.0->tensorflowjs) (1.12.1)\n",
            "Requirement already satisfied: tensorflow-estimator<2.5.0,>=2.4.0 in /usr/local/lib/python3.6/dist-packages (from tensorflow<3,>=2.1.0->tensorflowjs) (2.4.0)\n",
            "Requirement already satisfied: numpy~=1.19.2 in /usr/local/lib/python3.6/dist-packages (from tensorflow<3,>=2.1.0->tensorflowjs) (1.19.5)\n",
            "Requirement already satisfied: typing-extensions~=3.7.4 in /usr/local/lib/python3.6/dist-packages (from tensorflow<3,>=2.1.0->tensorflowjs) (3.7.4.3)\n",
            "Requirement already satisfied: flatbuffers~=1.12.0 in /usr/local/lib/python3.6/dist-packages (from tensorflow<3,>=2.1.0->tensorflowjs) (1.12)\n",
            "Requirement already satisfied: protobuf>=3.9.2 in /usr/local/lib/python3.6/dist-packages (from tensorflow<3,>=2.1.0->tensorflowjs) (3.12.4)\n",
            "Requirement already satisfied: opt-einsum~=3.3.0 in /usr/local/lib/python3.6/dist-packages (from tensorflow<3,>=2.1.0->tensorflowjs) (3.3.0)\n",
            "Requirement already satisfied: absl-py~=0.10 in /usr/local/lib/python3.6/dist-packages (from tensorflow<3,>=2.1.0->tensorflowjs) (0.10.0)\n",
            "Requirement already satisfied: gast==0.3.3 in /usr/local/lib/python3.6/dist-packages (from tensorflow<3,>=2.1.0->tensorflowjs) (0.3.3)\n",
            "Requirement already satisfied: termcolor~=1.1.0 in /usr/local/lib/python3.6/dist-packages (from tensorflow<3,>=2.1.0->tensorflowjs) (1.1.0)\n",
            "Requirement already satisfied: grpcio~=1.32.0 in /usr/local/lib/python3.6/dist-packages (from tensorflow<3,>=2.1.0->tensorflowjs) (1.32.0)\n",
            "Requirement already satisfied: wheel~=0.35 in /usr/local/lib/python3.6/dist-packages (from tensorflow<3,>=2.1.0->tensorflowjs) (0.36.2)\n",
            "Requirement already satisfied: google-pasta~=0.2 in /usr/local/lib/python3.6/dist-packages (from tensorflow<3,>=2.1.0->tensorflowjs) (0.2.0)\n",
            "Requirement already satisfied: keras-preprocessing~=1.1.2 in /usr/local/lib/python3.6/dist-packages (from tensorflow<3,>=2.1.0->tensorflowjs) (1.1.2)\n",
            "Requirement already satisfied: werkzeug>=0.11.15 in /usr/local/lib/python3.6/dist-packages (from tensorboard~=2.4->tensorflow<3,>=2.1.0->tensorflowjs) (1.0.1)\n",
            "Requirement already satisfied: google-auth-oauthlib<0.5,>=0.4.1 in /usr/local/lib/python3.6/dist-packages (from tensorboard~=2.4->tensorflow<3,>=2.1.0->tensorflowjs) (0.4.2)\n",
            "Requirement already satisfied: google-auth<2,>=1.6.3 in /usr/local/lib/python3.6/dist-packages (from tensorboard~=2.4->tensorflow<3,>=2.1.0->tensorflowjs) (1.25.0)\n",
            "Requirement already satisfied: requests<3,>=2.21.0 in /usr/local/lib/python3.6/dist-packages (from tensorboard~=2.4->tensorflow<3,>=2.1.0->tensorflowjs) (2.23.0)\n",
            "Requirement already satisfied: tensorboard-plugin-wit>=1.6.0 in /usr/local/lib/python3.6/dist-packages (from tensorboard~=2.4->tensorflow<3,>=2.1.0->tensorflowjs) (1.8.0)\n",
            "Requirement already satisfied: markdown>=2.6.8 in /usr/local/lib/python3.6/dist-packages (from tensorboard~=2.4->tensorflow<3,>=2.1.0->tensorflowjs) (3.3.3)\n",
            "Requirement already satisfied: setuptools>=41.0.0 in /usr/local/lib/python3.6/dist-packages (from tensorboard~=2.4->tensorflow<3,>=2.1.0->tensorflowjs) (53.0.0)\n",
            "Requirement already satisfied: requests-oauthlib>=0.7.0 in /usr/local/lib/python3.6/dist-packages (from google-auth-oauthlib<0.5,>=0.4.1->tensorboard~=2.4->tensorflow<3,>=2.1.0->tensorflowjs) (1.3.0)\n",
            "Requirement already satisfied: pyasn1-modules>=0.2.1 in /usr/local/lib/python3.6/dist-packages (from google-auth<2,>=1.6.3->tensorboard~=2.4->tensorflow<3,>=2.1.0->tensorflowjs) (0.2.8)\n",
            "Requirement already satisfied: cachetools<5.0,>=2.0.0 in /usr/local/lib/python3.6/dist-packages (from google-auth<2,>=1.6.3->tensorboard~=2.4->tensorflow<3,>=2.1.0->tensorflowjs) (4.2.1)\n",
            "Requirement already satisfied: rsa<5,>=3.1.4; python_version >= \"3.6\" in /usr/local/lib/python3.6/dist-packages (from google-auth<2,>=1.6.3->tensorboard~=2.4->tensorflow<3,>=2.1.0->tensorflowjs) (4.7)\n",
            "Requirement already satisfied: certifi>=2017.4.17 in /usr/local/lib/python3.6/dist-packages (from requests<3,>=2.21.0->tensorboard~=2.4->tensorflow<3,>=2.1.0->tensorflowjs) (2020.12.5)\n",
            "Requirement already satisfied: chardet<4,>=3.0.2 in /usr/local/lib/python3.6/dist-packages (from requests<3,>=2.21.0->tensorboard~=2.4->tensorflow<3,>=2.1.0->tensorflowjs) (3.0.4)\n",
            "Requirement already satisfied: urllib3!=1.25.0,!=1.25.1,<1.26,>=1.21.1 in /usr/local/lib/python3.6/dist-packages (from requests<3,>=2.21.0->tensorboard~=2.4->tensorflow<3,>=2.1.0->tensorflowjs) (1.24.3)\n",
            "Requirement already satisfied: idna<3,>=2.5 in /usr/local/lib/python3.6/dist-packages (from requests<3,>=2.21.0->tensorboard~=2.4->tensorflow<3,>=2.1.0->tensorflowjs) (2.10)\n",
            "Requirement already satisfied: importlib-metadata; python_version < \"3.8\" in /usr/local/lib/python3.6/dist-packages (from markdown>=2.6.8->tensorboard~=2.4->tensorflow<3,>=2.1.0->tensorflowjs) (3.4.0)\n",
            "Requirement already satisfied: oauthlib>=3.0.0 in /usr/local/lib/python3.6/dist-packages (from requests-oauthlib>=0.7.0->google-auth-oauthlib<0.5,>=0.4.1->tensorboard~=2.4->tensorflow<3,>=2.1.0->tensorflowjs) (3.1.0)\n",
            "Requirement already satisfied: pyasn1<0.5.0,>=0.4.6 in /usr/local/lib/python3.6/dist-packages (from pyasn1-modules>=0.2.1->google-auth<2,>=1.6.3->tensorboard~=2.4->tensorflow<3,>=2.1.0->tensorflowjs) (0.4.8)\n",
            "Requirement already satisfied: zipp>=0.5 in /usr/local/lib/python3.6/dist-packages (from importlib-metadata; python_version < \"3.8\"->markdown>=2.6.8->tensorboard~=2.4->tensorflow<3,>=2.1.0->tensorflowjs) (3.4.0)\n",
            "Installing collected packages: tensorflow-hub, tensorflowjs\n",
            "  Found existing installation: tensorflow-hub 0.11.0\n",
            "    Uninstalling tensorflow-hub-0.11.0:\n",
            "      Successfully uninstalled tensorflow-hub-0.11.0\n",
            "Successfully installed tensorflow-hub-0.9.0 tensorflowjs-3.0.0\n"
          ],
          "name": "stdout"
        }
      ]
    },
    {
      "cell_type": "code",
      "metadata": {
        "id": "FC7mLMvj6tTL"
      },
      "source": [
        "from tensorflow.keras.callbacks import TensorBoard\r\n",
        "from tensorflow.keras.layers import Dense, Dropout, Conv2D, Activation, MaxPooling2D, Flatten, MaxPool2D\r\n",
        "from tensorflow.keras.models import Sequential\r\n",
        "import tensorflow as tf\r\n",
        "import pickle\r\n",
        "import random\r\n",
        "import numpy as np\r\n",
        "import matplotlib.pyplot as plt\r\n",
        "import cv2\r\n",
        "import os\r\n",
        "import time\r\n",
        "import gym\r\n",
        "import tensorflowjs as tfjs"
      ],
      "execution_count": null,
      "outputs": []
    },
    {
      "cell_type": "code",
      "metadata": {
        "colab": {
          "base_uri": "https://localhost:8080/"
        },
        "id": "iMoFJNGuEh6e",
        "outputId": "8642d725-77fe-4546-b754-0a22355ff07b"
      },
      "source": [
        "!pip install tensorflow-gpu==2.0.0-rc0"
      ],
      "execution_count": null,
      "outputs": [
        {
          "output_type": "stream",
          "text": [
            "Requirement already satisfied: tensorflow-gpu==2.0.0-rc0 in /usr/local/lib/python3.6/dist-packages (2.0.0rc0)\n",
            "Requirement already satisfied: absl-py>=0.7.0 in /usr/local/lib/python3.6/dist-packages (from tensorflow-gpu==2.0.0-rc0) (0.10.0)\n",
            "Requirement already satisfied: astor>=0.6.0 in /usr/local/lib/python3.6/dist-packages (from tensorflow-gpu==2.0.0-rc0) (0.8.1)\n",
            "Requirement already satisfied: protobuf>=3.6.1 in /usr/local/lib/python3.6/dist-packages (from tensorflow-gpu==2.0.0-rc0) (3.12.4)\n",
            "Requirement already satisfied: six>=1.10.0 in /usr/local/lib/python3.6/dist-packages (from tensorflow-gpu==2.0.0-rc0) (1.15.0)\n",
            "Requirement already satisfied: gast>=0.2.0 in /usr/local/lib/python3.6/dist-packages (from tensorflow-gpu==2.0.0-rc0) (0.3.3)\n",
            "Requirement already satisfied: wheel>=0.26 in /usr/local/lib/python3.6/dist-packages (from tensorflow-gpu==2.0.0-rc0) (0.36.2)\n",
            "Requirement already satisfied: opt-einsum>=2.3.2 in /usr/local/lib/python3.6/dist-packages (from tensorflow-gpu==2.0.0-rc0) (3.3.0)\n",
            "Requirement already satisfied: keras-preprocessing>=1.0.5 in /usr/local/lib/python3.6/dist-packages (from tensorflow-gpu==2.0.0-rc0) (1.1.2)\n",
            "Requirement already satisfied: wrapt>=1.11.1 in /usr/local/lib/python3.6/dist-packages (from tensorflow-gpu==2.0.0-rc0) (1.12.1)\n",
            "Requirement already satisfied: keras-applications>=1.0.8 in /usr/local/lib/python3.6/dist-packages (from tensorflow-gpu==2.0.0-rc0) (1.0.8)\n",
            "Requirement already satisfied: grpcio>=1.8.6 in /usr/local/lib/python3.6/dist-packages (from tensorflow-gpu==2.0.0-rc0) (1.32.0)\n",
            "Requirement already satisfied: termcolor>=1.1.0 in /usr/local/lib/python3.6/dist-packages (from tensorflow-gpu==2.0.0-rc0) (1.1.0)\n",
            "Requirement already satisfied: tb-nightly<1.15.0a20190807,>=1.15.0a20190806 in /usr/local/lib/python3.6/dist-packages (from tensorflow-gpu==2.0.0-rc0) (1.15.0a20190806)\n",
            "Requirement already satisfied: tf-estimator-nightly<1.14.0.dev2019080602,>=1.14.0.dev2019080601 in /usr/local/lib/python3.6/dist-packages (from tensorflow-gpu==2.0.0-rc0) (1.14.0.dev2019080601)\n",
            "Requirement already satisfied: google-pasta>=0.1.6 in /usr/local/lib/python3.6/dist-packages (from tensorflow-gpu==2.0.0-rc0) (0.2.0)\n",
            "Requirement already satisfied: numpy<2.0,>=1.16.0 in /usr/local/lib/python3.6/dist-packages (from tensorflow-gpu==2.0.0-rc0) (1.19.5)\n",
            "Requirement already satisfied: setuptools in /usr/local/lib/python3.6/dist-packages (from protobuf>=3.6.1->tensorflow-gpu==2.0.0-rc0) (53.0.0)\n",
            "Requirement already satisfied: h5py in /usr/local/lib/python3.6/dist-packages (from keras-applications>=1.0.8->tensorflow-gpu==2.0.0-rc0) (2.10.0)\n",
            "Requirement already satisfied: werkzeug>=0.11.15 in /usr/local/lib/python3.6/dist-packages (from tb-nightly<1.15.0a20190807,>=1.15.0a20190806->tensorflow-gpu==2.0.0-rc0) (1.0.1)\n",
            "Requirement already satisfied: markdown>=2.6.8 in /usr/local/lib/python3.6/dist-packages (from tb-nightly<1.15.0a20190807,>=1.15.0a20190806->tensorflow-gpu==2.0.0-rc0) (3.3.3)\n",
            "Requirement already satisfied: importlib-metadata; python_version < \"3.8\" in /usr/local/lib/python3.6/dist-packages (from markdown>=2.6.8->tb-nightly<1.15.0a20190807,>=1.15.0a20190806->tensorflow-gpu==2.0.0-rc0) (3.4.0)\n",
            "Requirement already satisfied: typing-extensions>=3.6.4; python_version < \"3.8\" in /usr/local/lib/python3.6/dist-packages (from importlib-metadata; python_version < \"3.8\"->markdown>=2.6.8->tb-nightly<1.15.0a20190807,>=1.15.0a20190806->tensorflow-gpu==2.0.0-rc0) (3.7.4.3)\n",
            "Requirement already satisfied: zipp>=0.5 in /usr/local/lib/python3.6/dist-packages (from importlib-metadata; python_version < \"3.8\"->markdown>=2.6.8->tb-nightly<1.15.0a20190807,>=1.15.0a20190806->tensorflow-gpu==2.0.0-rc0) (3.4.0)\n"
          ],
          "name": "stdout"
        }
      ]
    },
    {
      "cell_type": "code",
      "metadata": {
        "colab": {
          "base_uri": "https://localhost:8080/"
        },
        "id": "16gsIlJp3_aQ",
        "outputId": "e8e2ccb6-7cc8-4000-a8ee-09bd784854c6"
      },
      "source": [
        "from google.colab import drive\r\n",
        "import pickle\r\n",
        "drive.mount('/content/drive')\r\n"
      ],
      "execution_count": null,
      "outputs": [
        {
          "output_type": "stream",
          "text": [
            "Drive already mounted at /content/drive; to attempt to forcibly remount, call drive.mount(\"/content/drive\", force_remount=True).\n"
          ],
          "name": "stdout"
        }
      ]
    },
    {
      "cell_type": "markdown",
      "metadata": {
        "id": "VATA_DldPBYj"
      },
      "source": [
        "# FETCHES THE DATA "
      ]
    },
    {
      "cell_type": "code",
      "metadata": {
        "id": "LiYCSM-cOioK"
      },
      "source": [
        "#X = pickle.load(open('C:\\\\Users\\sekin\\\\Downloads\\\\IMITATION LEARNING\\\\ML Engineer testing task-20210121T205321Z-001\\\\ML Engineer testing task\\\\ml-engineer-testing-task-data\\\\ml-engineer-testing-task\\\\data\\\\my_test_folder\\\\X_gray_full.pickle', \"rb\"))\r\n",
        "X = pickle.load(open('/content/drive/MyDrive/data/X_gray_full.pickle', \"rb\"))[0:100000]\r\n",
        "#y = np.load('C:\\\\Users\\sekin\\Downloads\\\\IMITATION LEARNING\\\\ML Engineer testing task-20210121T205321Z-001\\\\ML Engineer testing task\\\\ml-engineer-testing-task-data\\\\ml-engineer-testing-task\\\\data\\\\my_test_folder\\\\actions.npy').flatten()\r\n",
        "y = np.load('/content/drive/MyDrive/data/actions.npy').flatten()[0:100000]"
      ],
      "execution_count": null,
      "outputs": []
    },
    {
      "cell_type": "code",
      "metadata": {
        "id": "BZhCZSmxQ3NN",
        "colab": {
          "base_uri": "https://localhost:8080/"
        },
        "outputId": "713cdc47-262f-4322-e37c-e9ae93c0c751"
      },
      "source": [
        "X = X/255\r\n",
        "#y = y.reshape(y.shape[0],-1).T\r\n",
        "y = y.reshape(len(y), 1)\r\n",
        "print(X.shape)\r\n",
        "print(y.shape)"
      ],
      "execution_count": null,
      "outputs": [
        {
          "output_type": "stream",
          "text": [
            "(100000, 84, 84, 1)\n",
            "(100000, 1)\n"
          ],
          "name": "stdout"
        }
      ]
    },
    {
      "cell_type": "code",
      "metadata": {
        "id": "72ysgaUrRUKx"
      },
      "source": [
        "#NAME = \"BC-openaiGYM-cnn-64x2-{}\".format(int(time.time()))\r\n",
        "#tensorboard = TensorBoard(log_dir='C:\\\\Users\\\\sekin\\\\Downloads\\\\IMITATION LEARNING\\\\ML Engineer testing task-20210121T205321Z-001\\\\ML Engineer testing task\\\\ml-engineer-testing-task-data\\\\ml-engineer-testing-task\\\\data\\\\my_test_folder\\\\logs{}'.format(NAME))"
      ],
      "execution_count": null,
      "outputs": []
    },
    {
      "cell_type": "code",
      "metadata": {
        "id": "ukpCc2rDQ-OV",
        "colab": {
          "base_uri": "https://localhost:8080/"
        },
        "outputId": "34b5e75d-4929-46c4-9cd6-ff616ec3b1dc"
      },
      "source": [
        "#----------------------------------------#\r\n",
        "# create model#\r\n",
        "#----------------------------------------#\r\n",
        "# #def create_model():\r\n",
        "model = Sequential()\r\n",
        "# conv 1\r\n",
        "model.add(Conv2D(64, (3, 3), input_shape=X[0].shape))\r\n",
        "model.add(Activation('relu'))\r\n",
        "model.add(MaxPooling2D(pool_size=(2, 2)))\r\n",
        "# conv 2\r\n",
        "model.add(Conv2D(64, (3, 3)))\r\n",
        "model.add(Activation('relu'))\r\n",
        "model.add(MaxPooling2D(pool_size=(2, 2)))\r\n",
        "# conv 3\r\n",
        "model.add(Conv2D(64, (3, 3)))\r\n",
        "model.add(Activation('relu'))\r\n",
        "model.add(MaxPooling2D(pool_size=(2, 2)))\r\n",
        "# fc 1\r\n",
        "model.add(Flatten())\r\n",
        "model.add(Dense(64))\r\n",
        "model.add(Dropout(0.25))\r\n",
        "model.add(Activation('relu'))\r\n",
        "# fc 2\r\n",
        "model.add(Dense(64))\r\n",
        "model.add(Activation('relu'))\r\n",
        "#out==logits\r\n",
        "model.add(Dense(4))\r\n",
        "model.add(Activation('softmax'))\r\n",
        "\r\n",
        "\r\n",
        "model.compile(loss='sparse_categorical_crossentropy',\r\n",
        "              optimizer='adam', metrics=['accuracy'])\r\n",
        "\r\n",
        "history = model.fit(x=X, y=y, batch_size=128, epochs=25,\r\n",
        "          validation_split=0.2)\r\n",
        "\r\n",
        "model.save('/content/drive/MyDrive/data/BC-openAI-CNN-11-ol.h5')\r\n",
        "\r\n",
        "#saves the model as a converted tensorflowjs model\r\n",
        "tfjs.converters.save_keras_model(model, '/content/drive/MyDrive/data/model-js-version1')"
      ],
      "execution_count": null,
      "outputs": [
        {
          "output_type": "stream",
          "text": [
            "Train on 80000 samples, validate on 20000 samples\n",
            "Epoch 1/25\n",
            "WARNING:tensorflow:Entity <function Function._initialize_uninitialized_variables.<locals>.initialize_variables at 0x7f5cb0090bf8> could not be transformed and will be executed as-is. Please report this to the AutoGraph team. When filing the bug, set the verbosity to 10 (on Linux, `export AUTOGRAPH_VERBOSITY=10`) and attach the full output. Cause: module 'gast' has no attribute 'Num'\n",
            "WARNING: Entity <function Function._initialize_uninitialized_variables.<locals>.initialize_variables at 0x7f5cb0090bf8> could not be transformed and will be executed as-is. Please report this to the AutoGraph team. When filing the bug, set the verbosity to 10 (on Linux, `export AUTOGRAPH_VERBOSITY=10`) and attach the full output. Cause: module 'gast' has no attribute 'Num'\n",
            "80000/80000 [==============================] - 34s 421us/sample - loss: 1.2063 - accuracy: 0.4344 - val_loss: 1.1700 - val_accuracy: 0.4615\n",
            "Epoch 2/25\n",
            "80000/80000 [==============================] - 26s 324us/sample - loss: 1.1372 - accuracy: 0.4910 - val_loss: 1.1365 - val_accuracy: 0.4960\n",
            "Epoch 3/25\n",
            "80000/80000 [==============================] - 26s 326us/sample - loss: 1.0986 - accuracy: 0.5199 - val_loss: 1.1171 - val_accuracy: 0.5094\n",
            "Epoch 4/25\n",
            "80000/80000 [==============================] - 27s 332us/sample - loss: 1.0657 - accuracy: 0.5394 - val_loss: 1.0988 - val_accuracy: 0.5135\n",
            "Epoch 5/25\n",
            "80000/80000 [==============================] - 26s 330us/sample - loss: 1.0417 - accuracy: 0.5522 - val_loss: 1.0837 - val_accuracy: 0.5270\n",
            "Epoch 6/25\n",
            "80000/80000 [==============================] - 26s 329us/sample - loss: 1.0216 - accuracy: 0.5618 - val_loss: 1.0808 - val_accuracy: 0.5274\n",
            "Epoch 7/25\n",
            "80000/80000 [==============================] - 26s 328us/sample - loss: 1.0038 - accuracy: 0.5695 - val_loss: 1.0773 - val_accuracy: 0.5331\n",
            "Epoch 8/25\n",
            "80000/80000 [==============================] - 26s 330us/sample - loss: 0.9877 - accuracy: 0.5771 - val_loss: 1.0755 - val_accuracy: 0.5380\n",
            "Epoch 9/25\n",
            "80000/80000 [==============================] - 26s 329us/sample - loss: 0.9747 - accuracy: 0.5838 - val_loss: 1.0663 - val_accuracy: 0.5407\n",
            "Epoch 10/25\n",
            "80000/80000 [==============================] - 26s 329us/sample - loss: 0.9606 - accuracy: 0.5902 - val_loss: 1.0700 - val_accuracy: 0.5409\n",
            "Epoch 11/25\n",
            "80000/80000 [==============================] - 26s 331us/sample - loss: 0.9464 - accuracy: 0.5958 - val_loss: 1.0732 - val_accuracy: 0.5421\n",
            "Epoch 12/25\n",
            "80000/80000 [==============================] - 26s 330us/sample - loss: 0.9329 - accuracy: 0.6030 - val_loss: 1.0797 - val_accuracy: 0.5383\n",
            "Epoch 13/25\n",
            "80000/80000 [==============================] - 26s 327us/sample - loss: 0.9195 - accuracy: 0.6082 - val_loss: 1.0972 - val_accuracy: 0.5382\n",
            "Epoch 14/25\n",
            "80000/80000 [==============================] - 26s 327us/sample - loss: 0.9050 - accuracy: 0.6151 - val_loss: 1.0869 - val_accuracy: 0.5411\n",
            "Epoch 15/25\n",
            "80000/80000 [==============================] - 26s 328us/sample - loss: 0.8928 - accuracy: 0.6211 - val_loss: 1.1053 - val_accuracy: 0.5407\n",
            "Epoch 16/25\n",
            "80000/80000 [==============================] - 26s 329us/sample - loss: 0.8778 - accuracy: 0.6276 - val_loss: 1.1044 - val_accuracy: 0.5352\n",
            "Epoch 17/25\n",
            "80000/80000 [==============================] - 26s 328us/sample - loss: 0.8655 - accuracy: 0.6333 - val_loss: 1.1092 - val_accuracy: 0.5353\n",
            "Epoch 18/25\n",
            "80000/80000 [==============================] - 26s 329us/sample - loss: 0.8539 - accuracy: 0.6394 - val_loss: 1.1323 - val_accuracy: 0.5353\n",
            "Epoch 19/25\n",
            "80000/80000 [==============================] - 26s 329us/sample - loss: 0.8379 - accuracy: 0.6450 - val_loss: 1.1605 - val_accuracy: 0.5368\n",
            "Epoch 20/25\n",
            "80000/80000 [==============================] - 26s 330us/sample - loss: 0.8272 - accuracy: 0.6502 - val_loss: 1.1765 - val_accuracy: 0.5283\n",
            "Epoch 21/25\n",
            "80000/80000 [==============================] - 26s 329us/sample - loss: 0.8137 - accuracy: 0.6542 - val_loss: 1.1798 - val_accuracy: 0.5315\n",
            "Epoch 22/25\n",
            "80000/80000 [==============================] - 26s 329us/sample - loss: 0.7998 - accuracy: 0.6599 - val_loss: 1.1990 - val_accuracy: 0.5303\n",
            "Epoch 23/25\n",
            "80000/80000 [==============================] - 26s 327us/sample - loss: 0.7892 - accuracy: 0.6655 - val_loss: 1.2103 - val_accuracy: 0.5325\n",
            "Epoch 24/25\n",
            "80000/80000 [==============================] - 26s 327us/sample - loss: 0.7776 - accuracy: 0.6698 - val_loss: 1.2254 - val_accuracy: 0.5235\n",
            "Epoch 25/25\n",
            "80000/80000 [==============================] - 26s 326us/sample - loss: 0.7662 - accuracy: 0.6752 - val_loss: 1.2318 - val_accuracy: 0.5300\n"
          ],
          "name": "stdout"
        },
        {
          "output_type": "stream",
          "text": [
            "/usr/local/lib/python3.6/dist-packages/tensorflowjs/converters/keras_h5_conversion.py:123: H5pyDeprecationWarning: The default file mode will change to 'r' (read-only) in h5py 3.0. To suppress this warning, pass the mode you need to h5py.File(), or set the global default h5.get_config().default_file_mode, or set the environment variable H5PY_DEFAULT_READONLY=1. Available modes are: 'r', 'r+', 'w', 'w-'/'x', 'a'. See the docs for details.\n",
            "  return h5py.File(h5file)\n"
          ],
          "name": "stderr"
        }
      ]
    },
    {
      "cell_type": "code",
      "metadata": {
        "id": "Znpo92-BHX90"
      },
      "source": [
        "def plot_learning_curve(history, epochs):\r\n",
        "    \"\"\"\r\n",
        "    plots the loss and accuracy graphs for both the training \r\n",
        "    and validation sets\r\n",
        "    \"\"\"\r\n",
        "    # train and eval accuracy\r\n",
        "    epoch_range = range(1, epochs+1)\r\n",
        "    plt.plot(epoch_range, history.history['accuracy'])\r\n",
        "    plt.plot(epoch_range, history.history['val_accuracy'])\r\n",
        "    plt.title('model accuracy')\r\n",
        "    plt.ylabel('accuracy')\r\n",
        "    plt.xlabel('epoch')\r\n",
        "    plt.legend(['train', 'val'], loc='upper left')\r\n",
        "    plt.show()\r\n",
        "\r\n",
        "    # train and eval loss\r\n",
        "    epoch_range = range(1, epochs+1)\r\n",
        "    plt.plot(epoch_range, history.history['loss'])\r\n",
        "    plt.plot(epoch_range, history.history['val_loss'])\r\n",
        "    plt.title('model loss')\r\n",
        "    plt.ylabel('loss')\r\n",
        "    plt.xlabel('epoch')\r\n",
        "    plt.legend(['train', 'val'], loc='upper left')\r\n",
        "    plt.show()\r\n",
        "plot_learning_curve(history, 25)"
      ],
      "execution_count": null,
      "outputs": []
    },
    {
      "cell_type": "markdown",
      "metadata": {
        "id": "Bs_MaEstB0_h"
      },
      "source": [
        "**SHOW THE RESULT BY USING THE MODEL IN THE GYM ENVIRONMENT**\r\n"
      ]
    },
    {
      "cell_type": "code",
      "metadata": {
        "id": "4Oj-UtmFnPA5"
      },
      "source": [
        "!pip install gym\r\n",
        "!apt-get install python-opengl -y\r\n",
        "!apt install xvfb -y\r\n",
        "!pip install gym[atari]\r\n",
        "!pip install pyvirtualdisplay\r\n",
        "!pip install piglet"
      ],
      "execution_count": null,
      "outputs": []
    },
    {
      "cell_type": "code",
      "metadata": {
        "id": "YFBpc8JWmYLj"
      },
      "source": [
        "#model = tf.keras.models.load_model('/content/drive/MyDrive/data/BC-openAI-CNN-8-ol.h5')"
      ],
      "execution_count": null,
      "outputs": []
    },
    {
      "cell_type": "markdown",
      "metadata": {
        "id": "wS-IFNXWCN7G"
      },
      "source": [
        "**utility functions to convert the game environment to the format understood by the model**"
      ]
    },
    {
      "cell_type": "code",
      "metadata": {
        "id": "D0_SStIEwaMz"
      },
      "source": [
        "def grayConversion(image):\r\n",
        "    grayValue = 0.07 * image[:,:,2] + 0.72 * image[:,:,1] + 0.21 * image[:,:,0]\r\n",
        "    gray_img = grayValue.astype(np.float64)\r\n",
        "    return gray_img\r\n",
        "def prepare(obs):\r\n",
        "    IMG_SIZE = 84\r\n",
        "    # img_array = cv2.imread(filepath, cv2.IMREAD_GRAYSCALE)\r\n",
        "    obs = obs/255\r\n",
        "    gray_obs =  grayConversion(obs)\r\n",
        "    print(\"shape of gray_obs{}\".format(gray_obs.shape))\r\n",
        "    new_obs = cv2.resize(gray_obs, (IMG_SIZE, IMG_SIZE))\r\n",
        "    print(\"shape of new_obs{}\".format(new_obs.shape))\r\n",
        "    return new_obs.reshape(-1, IMG_SIZE, IMG_SIZE, 1)\r\n"
      ],
      "execution_count": null,
      "outputs": []
    },
    {
      "cell_type": "markdown",
      "metadata": {
        "id": "ozyLMxgjCjeK"
      },
      "source": [
        "**SETTING UP THE GYM ENVIRONMENT ON GOOGLE COLAB**"
      ]
    },
    {
      "cell_type": "code",
      "metadata": {
        "id": "fl11GWKIxMsh"
      },
      "source": [
        "from pyvirtualdisplay import Display\r\n",
        "display = Display(visible=0, size=(1400, 900))\r\n",
        "display.start()"
      ],
      "execution_count": null,
      "outputs": []
    },
    {
      "cell_type": "code",
      "metadata": {
        "id": "qa1irQt3xaoV"
      },
      "source": [
        "# This code creates a virtual display to draw game images on. \r\n",
        "# If you are running locally, just ignore it\r\n",
        "import os\r\n",
        "if type(os.environ.get(\"DISPLAY\")) is not str or len(os.environ.get(\"DISPLAY\"))==0:\r\n",
        "    !bash ../xvfb start\r\n",
        "    %env DISPLAY=:1"
      ],
      "execution_count": null,
      "outputs": []
    },
    {
      "cell_type": "code",
      "metadata": {
        "id": "zt4StVWsxdK7"
      },
      "source": [
        "import gym\r\n",
        "from gym import logger as gymlogger\r\n",
        "from gym.wrappers import Monitor\r\n",
        "gymlogger.set_level(40) # error only\r\n",
        "import tensorflow as tf\r\n",
        "import numpy as np\r\n",
        "import random\r\n",
        "import matplotlib\r\n",
        "import matplotlib.pyplot as plt\r\n",
        "%matplotlib inline\r\n",
        "import math\r\n",
        "import glob\r\n",
        "import io\r\n",
        "import base64\r\n",
        "from IPython.display import HTML\r\n",
        "\r\n",
        "from IPython import display as ipythondisplay"
      ],
      "execution_count": null,
      "outputs": []
    },
    {
      "cell_type": "code",
      "metadata": {
        "id": "mQETfOqWxj2K"
      },
      "source": [
        "\"\"\"\r\n",
        "Utility functions to enable video recording of gym environment and displaying it\r\n",
        "To enable video, just do \"env = wrap_env(env)\"\"\r\n",
        "\"\"\"\r\n",
        "\r\n",
        "def show_video():\r\n",
        "  mp4list = glob.glob('video/*.mp4')\r\n",
        "  if len(mp4list) > 0:\r\n",
        "    mp4 = mp4list[0]\r\n",
        "    video = io.open(mp4, 'r+b').read()\r\n",
        "    encoded = base64.b64encode(video)\r\n",
        "    ipythondisplay.display(HTML(data='''<video alt=\"test\" autoplay \r\n",
        "                loop controls style=\"height: 400px;\">\r\n",
        "                <source src=\"data:video/mp4;base64,{0}\" type=\"video/mp4\" />\r\n",
        "             </video>'''.format(encoded.decode('ascii'))))\r\n",
        "  else: \r\n",
        "    print(\"Could not find video\")\r\n",
        "    \r\n",
        "\r\n",
        "def wrap_env(env):\r\n",
        "  env = Monitor(env, './video', force=True)\r\n",
        "  return env"
      ],
      "execution_count": null,
      "outputs": []
    },
    {
      "cell_type": "code",
      "metadata": {
        "id": "EvQGwsK8xuIR"
      },
      "source": [
        "\"\"\"\r\n",
        "where the model is used\r\n",
        "\"\"\"\r\n",
        "import gym\r\n",
        "import matplotlib.pyplot as plt\r\n",
        "\r\n",
        "env = gym.make(\"Breakout-v0\")\r\n",
        "env = wrap_env(env)\r\n",
        "\r\n",
        "#\r\n",
        "# explore MountainCar environment\r\n",
        "#\r\n",
        "plt.imshow(env.render('rgb_array'))\r\n",
        "print(\"Observation space:\", env.observation_space)\r\n",
        "print(\"Action space:\", env.action_space)\r\n",
        "\r\n",
        "#\r\n",
        "# take random actions and show the video result\r\n",
        "# In MountainCar, observation is just two numbers: \r\n",
        "# car position and velocity\r\n",
        "#\r\n",
        "observation = env.reset()\r\n",
        "print(\"initial observation code:\", observation)\r\n",
        "\r\n",
        "    \r\n",
        "while True:\r\n",
        "  env.render()\r\n",
        "  \r\n",
        "  # your agent goes here\r\n",
        "  action = env.action_space.sample()   # take a random action\r\n",
        "  prediction = model.predict_classes(prepare(observation))\r\n",
        "  #print(prediction)\r\n",
        "  observation, reward, done, info = env.step(prediction) \r\n",
        "  #print(reward)\r\n",
        "   \r\n",
        "  if done: \r\n",
        "    break;\r\n",
        "            \r\n",
        "env.close()\r\n",
        "show_video()"
      ],
      "execution_count": null,
      "outputs": []
    },
    {
      "cell_type": "code",
      "metadata": {
        "id": "Dnu1Qw0VxI-l"
      },
      "source": [
        ""
      ],
      "execution_count": null,
      "outputs": []
    }
  ]
}